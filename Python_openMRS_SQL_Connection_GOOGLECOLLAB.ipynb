{
  "nbformat": 4,
  "nbformat_minor": 0,
  "metadata": {
    "colab": {
      "name": "Python_openMRS_SQL_Connection_GOOGLECOLLAB.ipynb",
      "provenance": [],
      "collapsed_sections": [
        "JruFwZZdcuWj",
        "06PEptjECkcI",
        "-bu-5PAVCgpS",
        "M24rHTiMCpiy",
        "rXjQJfllc6f4",
        "LYXOUtb6Cwa0",
        "qJo6gqF-PxFH"
      ]
    },
    "kernelspec": {
      "name": "python3",
      "display_name": "Python 3"
    }
  },
  "cells": [
    {
      "cell_type": "markdown",
      "metadata": {
        "id": "sXKFFFOabAGv"
      },
      "source": [
        "# This is a block of text \n",
        "\n",
        "## Using MARKDOWN for formatting "
      ]
    },
    {
      "cell_type": "markdown",
      "metadata": {
        "id": "JruFwZZdcuWj"
      },
      "source": [
        "# Basic PYTHON examples"
      ]
    },
    {
      "cell_type": "code",
      "metadata": {
        "id": "BeU0qkUTa-g0"
      },
      "source": [
        "# Creating a simple variable \n",
        "\n",
        "variable_1 = 5 \n",
        "variable_1 "
      ],
      "execution_count": null,
      "outputs": []
    },
    {
      "cell_type": "code",
      "metadata": {
        "id": "1f7bb-ImbU4y"
      },
      "source": [
        "# Reading a ERROR message \n",
        "variable_2 = 10 \n",
        "variable2"
      ],
      "execution_count": null,
      "outputs": []
    },
    {
      "cell_type": "code",
      "metadata": {
        "id": "9rF-9DjObkD2"
      },
      "source": [
        "# Creating a EXCEL-LIKE table with fake information\n",
        "import pandas as pd \n",
        "d = {'age': [25, 23, 43], 'name': ['John', 'Frank', 'Joe']}\n",
        "df = pd.DataFrame(data=d)\n",
        "df"
      ],
      "execution_count": null,
      "outputs": []
    },
    {
      "cell_type": "code",
      "metadata": {
        "id": "9CMXwq1ob936"
      },
      "source": [
        "df['age'].mean()"
      ],
      "execution_count": null,
      "outputs": []
    },
    {
      "cell_type": "markdown",
      "metadata": {
        "id": "06PEptjECkcI"
      },
      "source": [
        "# Python SQL Connection\n",
        "## Install dependencies"
      ]
    },
    {
      "cell_type": "code",
      "metadata": {
        "id": "y0VdFgbdBqgI"
      },
      "source": [
        "!sudo apt-get install python3-dev default-libmysqlclient-dev\n",
        "!pip install pymysql"
      ],
      "execution_count": null,
      "outputs": []
    },
    {
      "cell_type": "markdown",
      "metadata": {
        "id": "-bu-5PAVCgpS"
      },
      "source": [
        "# Load Data from mySQL\n"
      ]
    },
    {
      "cell_type": "code",
      "metadata": {
        "id": "Vkz5vAnIB4DL"
      },
      "source": [
        "from sqlalchemy import create_engine\n",
        "\n",
        "MYSQL_HOSTNAME = 'XXXXX' # INSERT IN NEW IP ADDRESS \n",
        "MYSQL_USER = 'XXXXX'           # INSERT IN NEW USER \n",
        "MYSQL_PASSWORD = 'XXXXX'      # INSERT IN PASSWORD\n",
        "MYSQL_DATABASE = 'openmrs'\n",
        "\n",
        "connection_string = f'mysql+pymysql://{MYSQL_USER}:{MYSQL_PASSWORD}@{MYSQL_HOSTNAME}/{MYSQL_DATABASE}'\n",
        "\n",
        "mysql_db_hospital = create_engine(connection_string)\n",
        "\n"
      ],
      "execution_count": null,
      "outputs": []
    },
    {
      "cell_type": "markdown",
      "metadata": {
        "id": "M24rHTiMCpiy"
      },
      "source": [
        "# Test that the DB engine succesfully ran:"
      ]
    },
    {
      "cell_type": "code",
      "metadata": {
        "id": "32PWEfM9CsL9"
      },
      "source": [
        "mysql_db_hospital"
      ],
      "execution_count": null,
      "outputs": []
    },
    {
      "cell_type": "markdown",
      "metadata": {
        "id": "rXjQJfllc6f4"
      },
      "source": [
        "# Get the names of all the TABLES that exist in the database"
      ]
    },
    {
      "cell_type": "code",
      "metadata": {
        "id": "SU-eGMk4c8AZ"
      },
      "source": [
        "mysql_db_hospital.table_names()"
      ],
      "execution_count": null,
      "outputs": []
    },
    {
      "cell_type": "markdown",
      "metadata": {
        "id": "LYXOUtb6Cwa0"
      },
      "source": [
        "# Run a Simple Query\n"
      ]
    },
    {
      "cell_type": "code",
      "metadata": {
        "id": "6anya2bYCI9X"
      },
      "source": [
        "# Running a SQL command from PYTHON -> hitting our openMRS server \n",
        "\n",
        "mysqlquery1 = \"\"\"SELECT * FROM patient limit 5;\"\"\".format(MYSQL_DATABASE)\n",
        "\n",
        "events_df = pd.read_sql(mysqlquery1, con=mysql_db_hospital)\n"
      ],
      "execution_count": null,
      "outputs": []
    },
    {
      "cell_type": "code",
      "metadata": {
        "id": "-0L4te01Fjrl"
      },
      "source": [
        "events_df"
      ],
      "execution_count": null,
      "outputs": []
    },
    {
      "cell_type": "code",
      "metadata": {
        "id": "1gezvfB1Pwxj"
      },
      "source": [
        "# Get the number of patients in the 'patient' table \n",
        "\n",
        "mysqlquery2 = \"\"\"SELECT count(*) FROM patient;\"\"\".format(MYSQL_DATABASE)\n",
        "events_df_2 = pd.read_sql(mysqlquery2, con=mysql_db_hospital)\n",
        "events_df_2\n",
        "\n"
      ],
      "execution_count": null,
      "outputs": []
    },
    {
      "cell_type": "code",
      "metadata": {
        "id": "V9rdzCV4foMe"
      },
      "source": [
        "# Get the number of persons from the 'person' table\n",
        "\n",
        "mysqlquery3 = \"\"\"SELECT count(*) FROM person;\"\"\".format(MYSQL_DATABASE)\n",
        "events_df_3 = pd.read_sql(mysqlquery3, con=mysql_db_hospital)\n",
        "events_df_3"
      ],
      "execution_count": null,
      "outputs": []
    },
    {
      "cell_type": "code",
      "metadata": {
        "id": "BObsPaJngf2d"
      },
      "source": [
        "# Get some of the details from the 'person' table // first generate a preview \n",
        "\n",
        "mysqlquery4 = \"\"\"SELECT * FROM person;\"\"\".format(MYSQL_DATABASE)\n",
        "events_df_4 = pd.read_sql(mysqlquery4, con=mysql_db_hospital)\n",
        "events_df_4"
      ],
      "execution_count": null,
      "outputs": []
    },
    {
      "cell_type": "code",
      "metadata": {
        "id": "_jIZ8LPEgvoP"
      },
      "source": [
        "events_df_4['gender'].value_counts()"
      ],
      "execution_count": null,
      "outputs": []
    },
    {
      "cell_type": "code",
      "metadata": {
        "id": "4bIh77mZg1gE"
      },
      "source": [
        "events_df_4['age_converted'] = pd.to_datetime(events_df_4['birthdate'], errors='coerce')\n",
        "events_df_4\n"
      ],
      "execution_count": null,
      "outputs": []
    },
    {
      "cell_type": "code",
      "metadata": {
        "id": "bvfbtKl2iAmu"
      },
      "source": [
        "now = pd.to_datetime('now')\n",
        "now"
      ],
      "execution_count": null,
      "outputs": []
    },
    {
      "cell_type": "code",
      "metadata": {
        "id": "y7dAjZTziICD"
      },
      "source": [
        "events_df_4['age_converted'] = (now.year - events_df_4['age_converted'].dt.year) - ((now.month - events_df_4['age_converted'].dt.month) < 0)\n",
        "events_df_4\n",
        "\n"
      ],
      "execution_count": null,
      "outputs": []
    },
    {
      "cell_type": "code",
      "metadata": {
        "id": "dZh43QVbiUfr"
      },
      "source": [
        "events_df_4['age_converted'].mean()"
      ],
      "execution_count": null,
      "outputs": []
    },
    {
      "cell_type": "markdown",
      "metadata": {
        "id": "qJo6gqF-PxFH"
      },
      "source": [
        "# API Retrieval\n"
      ]
    },
    {
      "cell_type": "code",
      "metadata": {
        "id": "y_Wcnuh5ROle"
      },
      "source": [
        "import requests\n",
        "\n",
        "response = requests.get('http://openmrs.appliedhealthinformatics.com:8080/openmrs/ws/rest/v1/systeminformation', auth=('INSERTHERE', 'INSERTHERE'))\n",
        "response.json()"
      ],
      "execution_count": null,
      "outputs": []
    },
    {
      "cell_type": "code",
      "metadata": {
        "id": "HxlebeiMPziA"
      },
      "source": [
        "response = requests.get('http://openmrs.appliedhealthinformatics.com:8080/openmrs/ws/rest/v1/user?q=admin&v=default&limit=1', auth=('INSERTHERE', 'INSERTHERE'))\n",
        "response.json()\n"
      ],
      "execution_count": null,
      "outputs": []
    },
    {
      "cell_type": "code",
      "metadata": {
        "id": "MMCR_n3nisg7"
      },
      "source": [
        "response = requests.get('http://openmrs.appliedhealthinformatics.com:8080/openmrs/ws/rest/v1//patient?q=Sarah&v=default&limit=1', auth=('INSERTHERE', 'INSERTHERE'))\n",
        "response.json()"
      ],
      "execution_count": null,
      "outputs": []
    }
  ]
}